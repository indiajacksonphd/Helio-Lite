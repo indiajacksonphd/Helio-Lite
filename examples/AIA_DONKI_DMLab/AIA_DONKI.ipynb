{
 "cells": [
  {
   "cell_type": "markdown",
   "id": "404ba071-a603-4289-a6c3-0b93cef21f0d",
   "metadata": {},
   "source": [
    "# Solar Observation Analysis with AIA Images and DONKI Data\n",
    "\n",
    "This notebook demonstrates querying, visualizing, and downloading Atmospheric Imaging Assembly (AIA) images from the Joint Science Operations Center (JSOC) and analyzing solar data from The Space Weather Database of Notifications, Knowledge, Information (DONKI) developed by the Community Coordinated Modeling Center.\n",
    "\n",
    "These modules were developed by India Jackson, PhD as a requirement for a PhD in Astrophysics and MS in Computer Science at Georgia State University.\n",
    "\n",
    "## AIA Images Module\n",
    "Function: `fetch_aia_images(year, month, day, wavelength)`\n",
    "\n",
    "### Parameter Options:\n",
    "- **year**: 2013 - 2024\n",
    "- **month**: 1 - 12\n",
    "- **day**: 1 - 31\n",
    "- **wavelength**: 94, 131, 171, 193, 211, 304, 335, 1600, 1700, 4500\n",
    "\n",
    "## DONKI Retrieval Module\n",
    "Function: `fetch_space_weather_data(start_date, end_date, solar_flare, sep, cme)`\n",
    "\n",
    "### Parameter Options:\n",
    "- **start_date & end_date**: 'yyyy-mm-dd' format\n",
    "- **solar_flare, sep, cme**: Boolean values (True or False)\n",
    "\n",
    "Example Scenario: On September 10, 2017, a citizen scientist aims to compare their observations with JSOC data and further analyze using DONKI.\n",
    "\n"
   ]
  },
  {
   "cell_type": "code",
   "execution_count": 1,
   "id": "a1cba759-5484-4de8-97b5-b2c5549b1b6e",
   "metadata": {},
   "outputs": [],
   "source": [
    "import aiaImages\n",
    "import donkiData\n",
    "import astropy"
   ]
  },
  {
   "cell_type": "markdown",
   "id": "9d450a98-6a94-4c42-87ac-e8cd76f67634",
   "metadata": {},
   "source": [
    "### JSOC AIA Image Naming Convention and Time Conversion\n",
    "\n",
    "JSOC AIA images are saved using a specific format that incorporates the capture time and other identifying details. The format is as follows:\n",
    "\n",
    "- `year_month_day__hour_minute_second_version_SDO_AIA_AIA_wavelength`\n",
    "\n",
    "It's important to note that the time used in the file names is Universal Time Coordinated (UTC). To ensure you select the correct image corresponding to your local observations or requirements, you must convert your local time to UTC.\n",
    "\n",
    "**Please refer to the Time Conversion notebook for detailed guidance on converting local time to UTC.** This resource will help you navigate the complexities of time conversion, ensuring accurate and efficient image selection."
   ]
  },
  {
   "cell_type": "code",
   "execution_count": 2,
   "id": "9b081f09-7a88-4ab6-a9f4-cf9b8c7c5bbe",
   "metadata": {},
   "outputs": [
    {
     "data": {
      "text/plain": [
       "'2017-09-10T16:54:00Z'"
      ]
     },
     "execution_count": 2,
     "metadata": {},
     "output_type": "execute_result"
    }
   ],
   "source": [
    "# Convert local time to UTC if needed here (Please take a look at the Time Conversion notebook)\n",
    "aiaImages.local_to_utc('2017-09-10', '12:54', 'PM', 'America/New_York')"
   ]
  },
  {
   "cell_type": "markdown",
   "id": "23218ffe-4364-4c18-a5b9-b2016958c9b0",
   "metadata": {},
   "source": [
    "### Fetching and Saving AIA Images within Your Specified Date Range\n",
    "\n",
    "We will retrieve AIA images that fall within your selected date range. These images will be displayed dynamically on the screen, providing you with an interactive and informative experience.\n",
    "\n",
    "#### When You Choose to Save the Images, the Following Steps Will Occur:\n",
    "\n",
    "1. **Creation of `aia_images` Directory:** If it doesn't already exist, a new directory named `aia_images` will be created. This ensures that all your AIA images are organized in one central location.\n",
    "\n",
    "2. **Year-based Subdirectory:** Within the `aia_images` directory, a new subdirectory for the specific year of your chosen images will be created if it does not already exist. This organizational structure makes it easy to locate images from a particular year.\n",
    "\n",
    "3. **Saving Images in PNG Format:** The selected images will be saved in PNG format, which offers high-quality visuals without loss of image detail. This format is ideal for both viewing and further analysis of the AIA images.\n",
    "\n",
    "With these steps, you can efficiently manage and store your astronomical data, streamlining your research or observation project.\n",
    "\n"
   ]
  },
  {
   "cell_type": "code",
   "execution_count": 3,
   "id": "3b277f0c-59b6-4b26-b78b-3318c52cf9a3",
   "metadata": {},
   "outputs": [
    {
     "data": {
      "application/vnd.jupyter.widget-view+json": {
       "model_id": "707a651a320a40e992b5077217413e74",
       "version_major": 2,
       "version_minor": 0
      },
      "text/plain": [
       "Label(value='Select Your Images', layout=Layout(align_items='center', display='flex', justify_content='center'…"
      ]
     },
     "metadata": {},
     "output_type": "display_data"
    },
    {
     "data": {
      "application/vnd.jupyter.widget-view+json": {
       "model_id": "48d6e258f8464c268076921dd949f5c7",
       "version_major": 2,
       "version_minor": 0
      },
      "text/plain": [
       "VBox(children=(SelectMultiple(options=(('2017_09_10__00_00_23_12__SDO_AIA_AIA_94.jp2', '2017_09_10__00_00_23_1…"
      ]
     },
     "metadata": {},
     "output_type": "display_data"
    },
    {
     "data": {
      "application/vnd.jupyter.widget-view+json": {
       "model_id": "b1755a94f83c4d2eb314d8c34d628fd0",
       "version_major": 2,
       "version_minor": 0
      },
      "text/plain": [
       "Output()"
      ]
     },
     "metadata": {},
     "output_type": "display_data"
    }
   ],
   "source": [
    "aiaImages.fetch_aia_images(2017, 9, 10, 94)"
   ]
  },
  {
   "cell_type": "markdown",
   "id": "a9e1a96b-90fb-4a39-a602-9c70f86c7b8a",
   "metadata": {},
   "source": [
    "### Fetching and Saving JSON Files from the DONKI Database\n",
    "\n",
    "Finally, we will retrieve numerical data on this event from the DONKI Database. You can choose between solar flares, solar energetic particles, and coronal mass ejections for a specific date range and the information will display dynamically. When you decide to save the JSON file from DONKI, the process is structured for ease of use and organization:\n",
    "\n",
    "#### Steps for Saving the Files:\n",
    "1. **Creation of `donki_data` Directory:** If it doesn't already exist, a new directory named `donki_data` will be created. This ensures that all your JSON files are organized in one central location.\n",
    "2. **Saving Files in JSON Format:** The selected files will be saved in JSON format. JSON (JavaScript Object Notation) is a lightweight data-interchange format, which is easy for humans to read and write and easy for machines to parse and generate.\n",
    "\n",
    "These steps help maintain an organized and efficient workflow, allowing you to easily access and analyze the data from the DONKI database.\n"
   ]
  },
  {
   "cell_type": "code",
   "execution_count": 4,
   "id": "bcc7123f-bb43-4b14-b73e-a23ce2656765",
   "metadata": {},
   "outputs": [
    {
     "data": {
      "application/vnd.jupyter.widget-view+json": {
       "model_id": "aa201edee5404548ba970cdf6b3f4401",
       "version_major": 2,
       "version_minor": 0
      },
      "text/plain": [
       "Button(description='Save Data', style=ButtonStyle())"
      ]
     },
     "metadata": {},
     "output_type": "display_data"
    },
    {
     "data": {
      "text/plain": [
       "{'solar_flare': [{'flrID': '2017-09-10T02:39:00-FLR-001',\n",
       "   'instruments': [{'displayName': 'GOES15: SEM/XRS 1.0-8.0'}],\n",
       "   'beginTime': '2017-09-10T02:39Z',\n",
       "   'peakTime': '2017-09-10T03:09Z',\n",
       "   'endTime': '2017-09-10T03:47Z',\n",
       "   'classType': 'C9.0',\n",
       "   'sourceLocation': 'S09W88',\n",
       "   'activeRegionNum': 12673,\n",
       "   'linkedEvents': None,\n",
       "   'link': 'https://kauai.ccmc.gsfc.nasa.gov/DONKI/view/FLR/13093/-1'},\n",
       "  {'flrID': '2017-09-10T15:35:00-FLR-001',\n",
       "   'instruments': [{'displayName': 'GOES15: SEM/XRS 1.0-8.0'}],\n",
       "   'beginTime': '2017-09-10T15:35Z',\n",
       "   'peakTime': '2017-09-10T16:06Z',\n",
       "   'endTime': '2017-09-10T16:31Z',\n",
       "   'classType': 'X8.2',\n",
       "   'sourceLocation': 'S08W88',\n",
       "   'activeRegionNum': 12673,\n",
       "   'linkedEvents': [{'activityID': '2017-09-10T16:09:00-CME-001'},\n",
       "    {'activityID': '2017-09-10T16:25:00-SEP-001'},\n",
       "    {'activityID': '2017-09-10T16:45:00-SEP-001'},\n",
       "    {'activityID': '2017-09-10T20:00:00-SEP-001'}],\n",
       "   'link': 'https://kauai.ccmc.gsfc.nasa.gov/DONKI/view/FLR/13098/-1'},\n",
       "  {'flrID': '2017-09-11T10:08:00-FLR-001',\n",
       "   'instruments': [{'displayName': 'GOES15: SEM/XRS 1.0-8.0'}],\n",
       "   'beginTime': '2017-09-11T10:08Z',\n",
       "   'peakTime': '2017-09-11T10:10Z',\n",
       "   'endTime': '2017-09-11T10:17Z',\n",
       "   'classType': 'B9.8',\n",
       "   'sourceLocation': 'N11W88',\n",
       "   'activeRegionNum': 12674,\n",
       "   'linkedEvents': None,\n",
       "   'link': 'https://kauai.ccmc.gsfc.nasa.gov/DONKI/view/FLR/13120/-1'}],\n",
       " 'sep': [{'sepID': '2017-09-10T16:25:00-SEP-001',\n",
       "   'eventTime': '2017-09-10T16:25Z',\n",
       "   'instruments': [{'displayName': 'GOES13: SEM/EPS >100 MeV'}],\n",
       "   'linkedEvents': [{'activityID': '2017-09-10T15:35:00-FLR-001'},\n",
       "    {'activityID': '2017-09-10T16:09:00-CME-001'}],\n",
       "   'link': 'https://kauai.ccmc.gsfc.nasa.gov/DONKI/view/SEP/13101/-1'},\n",
       "  {'sepID': '2017-09-10T16:45:00-SEP-001',\n",
       "   'eventTime': '2017-09-10T16:45Z',\n",
       "   'instruments': [{'displayName': 'GOES13: SEM/EPS >10 MeV'}],\n",
       "   'linkedEvents': [{'activityID': '2017-09-10T15:35:00-FLR-001'},\n",
       "    {'activityID': '2017-09-10T16:09:00-CME-001'}],\n",
       "   'link': 'https://kauai.ccmc.gsfc.nasa.gov/DONKI/view/SEP/13104/-1'},\n",
       "  {'sepID': '2017-09-10T20:00:00-SEP-001',\n",
       "   'eventTime': '2017-09-10T20:00Z',\n",
       "   'instruments': [{'displayName': 'SOHO: COSTEP 15.8-39.8 MeV'}],\n",
       "   'linkedEvents': [{'activityID': '2017-09-10T15:35:00-FLR-001'},\n",
       "    {'activityID': '2017-09-10T16:09:00-CME-001'}],\n",
       "   'link': 'https://kauai.ccmc.gsfc.nasa.gov/DONKI/view/SEP/13112/-1'}],\n",
       " 'cme': [{'activityID': '2017-09-10T16:09:00-CME-001',\n",
       "   'catalog': 'M2M_CATALOG',\n",
       "   'startTime': '2017-09-10T16:09Z',\n",
       "   'sourceLocation': 'S09W91',\n",
       "   'activeRegionNum': 12673,\n",
       "   'link': 'https://kauai.ccmc.gsfc.nasa.gov/DONKI/view/CME/13107/-1',\n",
       "   'note': 'Clear flare, eruption, EUV wave, dimming around ~ 15:52Z off-limb and in SW.',\n",
       "   'instruments': [{'displayName': 'STEREO A: SECCHI/COR2'},\n",
       "    {'displayName': 'SOHO: LASCO/C2'},\n",
       "    {'displayName': 'SOHO: LASCO/C3'}],\n",
       "   'cmeAnalyses': [{'time21_5': '2017-09-10T17:18Z',\n",
       "     'latitude': -12.0,\n",
       "     'longitude': 85.0,\n",
       "     'halfAngle': 54.0,\n",
       "     'speed': 2650.0,\n",
       "     'type': 'R',\n",
       "     'isMostAccurate': True,\n",
       "     'note': '',\n",
       "     'levelOfData': 1,\n",
       "     'link': 'https://kauai.ccmc.gsfc.nasa.gov/DONKI/view/CMEAnalysis/13115/-1',\n",
       "     'enlilList': [{'modelCompletionTime': '2017-09-11T09:42Z',\n",
       "       'au': 2.0,\n",
       "       'estimatedShockArrivalTime': '2017-09-13T02:00Z',\n",
       "       'estimatedDuration': None,\n",
       "       'rmin_re': None,\n",
       "       'kp_18': None,\n",
       "       'kp_90': None,\n",
       "       'kp_135': None,\n",
       "       'kp_180': None,\n",
       "       'isEarthGB': True,\n",
       "       'link': 'https://kauai.ccmc.gsfc.nasa.gov/DONKI/view/WSA-ENLIL/13114/-1',\n",
       "       'impactList': [{'isGlancingBlow': False,\n",
       "         'location': 'STEREO B',\n",
       "         'arrivalTime': '2017-09-11T20:09Z'},\n",
       "        {'isGlancingBlow': True,\n",
       "         'location': 'Mars',\n",
       "         'arrivalTime': '2017-09-13T22:00Z'}],\n",
       "       'cmeIDs': ['2017-09-09T16:48:00-CME-001',\n",
       "        '2017-09-09T23:12:00-CME-001',\n",
       "        '2017-09-10T16:09:00-CME-001']},\n",
       "      {'modelCompletionTime': '2017-09-11T13:52Z',\n",
       "       'au': 5.5,\n",
       "       'estimatedShockArrivalTime': '2017-09-13T02:00Z',\n",
       "       'estimatedDuration': None,\n",
       "       'rmin_re': None,\n",
       "       'kp_18': None,\n",
       "       'kp_90': None,\n",
       "       'kp_135': None,\n",
       "       'kp_180': None,\n",
       "       'isEarthGB': True,\n",
       "       'link': 'https://kauai.ccmc.gsfc.nasa.gov/DONKI/view/WSA-ENLIL/13117/-1',\n",
       "       'impactList': [{'isGlancingBlow': False,\n",
       "         'location': 'Dawn',\n",
       "         'arrivalTime': '2017-09-14T20:52Z'},\n",
       "        {'isGlancingBlow': False,\n",
       "         'location': 'STEREO B',\n",
       "         'arrivalTime': '2017-09-11T20:31Z'}],\n",
       "       'cmeIDs': ['2017-09-09T16:48:00-CME-001',\n",
       "        '2017-09-09T23:12:00-CME-001',\n",
       "        '2017-09-10T16:09:00-CME-001']}]},\n",
       "    {'time21_5': '2017-09-10T17:26Z',\n",
       "     'latitude': -5.0,\n",
       "     'longitude': 68.0,\n",
       "     'halfAngle': 58.0,\n",
       "     'speed': 2314.0,\n",
       "     'type': 'R',\n",
       "     'isMostAccurate': True,\n",
       "     'note': 'STEREO A: SECCHI/COR2, SOHO LASCO C2 and C3 white light imagery were used in this measurement of the shock of the CME. This measurement was taken as part of the 2023 SEPVAL validation challenge.',\n",
       "     'levelOfData': 1,\n",
       "     'link': 'https://kauai.ccmc.gsfc.nasa.gov/DONKI/view/CMEAnalysis/27328/-1',\n",
       "     'enlilList': None},\n",
       "    {'time21_5': '2017-09-10T18:01Z',\n",
       "     'latitude': -8.0,\n",
       "     'longitude': 83.0,\n",
       "     'halfAngle': 63.0,\n",
       "     'speed': 1670.0,\n",
       "     'type': 'O',\n",
       "     'isMostAccurate': False,\n",
       "     'note': 'This is a preliminary measurement using limited STA COR2 imagery from swpc_cat',\n",
       "     'levelOfData': 0,\n",
       "     'link': 'https://kauai.ccmc.gsfc.nasa.gov/DONKI/view/CMEAnalysis/13108/-1',\n",
       "     'enlilList': [{'modelCompletionTime': '2017-09-10T19:48Z',\n",
       "       'au': 2.0,\n",
       "       'estimatedShockArrivalTime': '2017-09-13T04:00Z',\n",
       "       'estimatedDuration': None,\n",
       "       'rmin_re': None,\n",
       "       'kp_18': None,\n",
       "       'kp_90': None,\n",
       "       'kp_135': None,\n",
       "       'kp_180': None,\n",
       "       'isEarthGB': True,\n",
       "       'link': 'https://kauai.ccmc.gsfc.nasa.gov/DONKI/view/WSA-ENLIL/13110/-1',\n",
       "       'impactList': [{'isGlancingBlow': False,\n",
       "         'location': 'STEREO B',\n",
       "         'arrivalTime': '2017-09-12T05:12Z'},\n",
       "        {'isGlancingBlow': True,\n",
       "         'location': 'Mars',\n",
       "         'arrivalTime': '2017-09-14T10:00Z'}],\n",
       "       'cmeIDs': ['2017-09-10T16:09:00-CME-001']}]}],\n",
       "   'linkedEvents': [{'activityID': '2017-09-10T15:35:00-FLR-001'},\n",
       "    {'activityID': '2017-09-10T16:25:00-SEP-001'},\n",
       "    {'activityID': '2017-09-10T16:45:00-SEP-001'},\n",
       "    {'activityID': '2017-09-10T20:00:00-SEP-001'},\n",
       "    {'activityID': '2017-09-12T19:26:00-IPS-001'},\n",
       "    {'activityID': '2017-09-13T05:33:00-SEP-001'}]},\n",
       "  {'activityID': '2017-09-11T13:34:00-CME-001',\n",
       "   'catalog': 'M2M_CATALOG',\n",
       "   'startTime': '2017-09-11T13:34Z',\n",
       "   'sourceLocation': 'S8W110',\n",
       "   'activeRegionNum': 12673,\n",
       "   'link': 'https://kauai.ccmc.gsfc.nasa.gov/DONKI/view/CME/13123/-1',\n",
       "   'note': 'The CME was barely visible due to intense noise from SEPs in the images.',\n",
       "   'instruments': [{'displayName': 'SOHO: LASCO/C2'},\n",
       "    {'displayName': 'SOHO: LASCO/C3'}],\n",
       "   'cmeAnalyses': None,\n",
       "   'linkedEvents': None}]}"
      ]
     },
     "execution_count": 4,
     "metadata": {},
     "output_type": "execute_result"
    }
   ],
   "source": [
    "# Use the donkiData module to extract pertinant data for the event\n",
    "donkiData.fetch_space_weather_data('2017-09-10', '2017-09-11', solar_flare=True, sep=True, cme=True)"
   ]
  }
 ],
 "metadata": {
  "kernelspec": {
   "display_name": "PyHC All Packages",
   "language": "python",
   "name": "pyhc-all"
  },
  "language_info": {
   "codemirror_mode": {
    "name": "ipython",
    "version": 3
   },
   "file_extension": ".py",
   "mimetype": "text/x-python",
   "name": "python",
   "nbconvert_exporter": "python",
   "pygments_lexer": "ipython3",
   "version": "3.9.18"
  }
 },
 "nbformat": 4,
 "nbformat_minor": 5
}
