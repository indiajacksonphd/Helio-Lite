{
 "cells": [
  {
   "cell_type": "markdown",
   "id": "95240fe0-cb93-4815-b190-62ba3f77629f",
   "metadata": {},
   "source": [
    "# Understanding Time in Astronomical and Space Sciences\n",
    "## Kernel: Python3, PyHC All Packages, AI-ML Packages\n",
    "\n",
    "Timekeeping is a fundamental aspect of astronomical research, playing a crucial role in the precise coordination and comparison of observations and data across different parts of the world.\n",
    "\n",
    "## Time Formats and Their Importance\n",
    "\n",
    "### Local Time (with Timezones)\n",
    "- **Definition:** Local time is the standard time specific to a geographical region, adjusted according to local time zones and daylight saving changes, if applicable.\n",
    "- **Use in Astronomy:** Local time is less used in global or space research due to its variability based on location.\n",
    "**For a list of available time zones please take a look at the Time Zones notebook**\n",
    "\n",
    "### Military Time\n",
    "- **Definition:** A 24-hour clock system that runs from midnight (00:00) to 23:59, eliminating the need for AM and PM designations.\n",
    "- **Use in Astronomy:** Helpful for clear, unambiguous time reporting, though not universal.\n",
    "\n",
    "### Universal Time Coordinated (UTC)\n",
    "- **Definition:** UTC is the time standard commonly used across the world. It doesn't change with a change of seasons and is effectively the same as Greenwich Mean Time (GMT) without daylight saving adjustments.\n",
    "- **Use in Astronomy:** The primary time standard for astronomical research due to its universality and consistency, enabling synchronized observations and data analysis.\n",
    "\n",
    "## Challenges in Time Translation\n",
    "Translating between different time formats and zones can be complex due to:\n",
    "- Variations in daylight saving time rules.\n",
    "- Different time zone offsets.\n",
    "- The potential for human error in calculation.\n",
    "\n",
    "## Simplifying Conversions with aiaImages module\n",
    "\n",
    "### `utc_to_local(utc_time_str, target_timezone_str)`\n",
    "- **Purpose:** Converts a given UTC time to a local time in a specified timezone.\n",
    "- **Ease of Use:** Allows astronomers and citizen scientists to easily translate UTC time, which is the standard in space sciences, to their local time zones for scheduling or analysis.\n",
    "\n",
    "### `local_to_utc(user_date, user_time, am_pm, user_timezone)`\n",
    "- **Purpose:** Converts local time (including the date, time, and AM/PM designation) in any timezone to UTC time.\n",
    "- **Ease of Use:** Facilitates the conversion of local observations or schedules to UTC, ensuring consistency and accuracy in reporting and collaboration in the global scientific community.\n",
    "\n",
    "These functions significantly reduce the complexity of dealing with time conversions in astronomical research, making time management more accessible to researchers and enthusiasts alike.\n"
   ]
  },
  {
   "cell_type": "code",
   "execution_count": 2,
   "id": "8cbae462-ddba-4494-9aa8-0de106270e66",
   "metadata": {},
   "outputs": [],
   "source": [
    "from datetime import datetime, timedelta\n",
    "import pytz\n",
    "import aiaImages"
   ]
  },
  {
   "cell_type": "code",
   "execution_count": 4,
   "id": "54da2046-19d3-41ee-93df-e684b62bddb9",
   "metadata": {},
   "outputs": [
    {
     "data": {
      "text/plain": [
       "'2017-09-10 12:54:00 PM EDT-0400'"
      ]
     },
     "execution_count": 4,
     "metadata": {},
     "output_type": "execute_result"
    }
   ],
   "source": [
    "# Convert from UTC to Local\n",
    "aiaImages.utc_to_local('2017-09-10T16:54:00Z', 'America/New_York')"
   ]
  },
  {
   "cell_type": "code",
   "execution_count": 5,
   "id": "546949f3-b2a6-403b-96ce-65728b57d336",
   "metadata": {},
   "outputs": [
    {
     "data": {
      "text/plain": [
       "'2017-09-10T16:54:00Z'"
      ]
     },
     "execution_count": 5,
     "metadata": {},
     "output_type": "execute_result"
    }
   ],
   "source": [
    "# Convert from Local to UTC\n",
    "aiaImages.local_to_utc('2017-09-10', '12:54', 'PM', 'America/New_York')"
   ]
  }
 ],
 "metadata": {
  "kernelspec": {
   "display_name": "Python 3 (ipykernel)",
   "language": "python",
   "name": "python3"
  },
  "language_info": {
   "codemirror_mode": {
    "name": "ipython",
    "version": 3
   },
   "file_extension": ".py",
   "mimetype": "text/x-python",
   "name": "python",
   "nbconvert_exporter": "python",
   "pygments_lexer": "ipython3",
   "version": "3.10.10"
  }
 },
 "nbformat": 4,
 "nbformat_minor": 5
}
