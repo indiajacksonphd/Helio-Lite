{
 "cells": [
  {
   "cell_type": "markdown",
   "id": "d32f8606-22e5-4f84-a865-d96b7dbde7d2",
   "metadata": {},
   "source": [
    "# Accessing Georgia State University (GSU) Data Mining Lab's S3 Datasets with dmLab Module\n",
    "\n",
    "This Jupyter Notebook module, `dmLab`, facilitates easy access to various datasets stored on an AWS S3 bucket for Georgia State University's Data Mining Lab. The module streamlines fetching datasets for analysis in your Python environment.\n",
    "\n",
    "These modules were developed by India Jackson, PhD as a requirement for a PhD in Astrophysics and MS in Computer Science at Georgia State University.\n",
    "\n",
    "## Available Datasets\n",
    "The module provides access to a range of datasets, each with its unique focus and data characteristics:\n",
    "\n",
    "### GSEP (Integrated Geostationary Solar Energetic Particle Events Catalog)\n",
    "- **Dataset**: `gsep_list`\n",
    "- **Source**: [GSEP Publication](https://iopscience.iop.org/article/10.3847/1538-4365/ac87ac)\n",
    "\n",
    "### SOHO EIT (A Catalog of Solar Flare Events Observed by the SOHO/EIT)\n",
    "- **Dataset**: `soho_eit_flare`\n",
    "- **Source**: [SOHO EIT Publication](https://iopscience.iop.org/article/10.3847/1538-4365/ab9a42)\n",
    "\n",
    "### Flare to CME Catalogs\n",
    "- **Datasets**: `cdaw_cactus_lz_halo_integrated`, `cdaw_cactus_lz_nonhalo_integrated`, `cdaw_cactus_qkl_halo_integrated`, `cdaw_cactus_qkl_nonhalo_integrated`, `fl2cme_sdo`, `fl2cme_soho`, `soho_goes_flares`, `sdo_goes_flares`\n",
    "\n",
    "### SWAN-SF (Multivariate time series dataset for space weather data analytics)\n",
    "- **Datasets**: `goes_flares_integrated`, `Hinode_all`, `ssw_hpc`\n",
    "- **Source**: [SWAN-SF Publication](https://www.nature.com/articles/s41597-020-0548-x)\n",
    "\n",
    "## Usage:\n",
    "To use the module, simply import it and call the `get_data` function with the dataset name."
   ]
  },
  {
   "cell_type": "code",
   "execution_count": 1,
   "id": "478613db-f629-4612-aa21-ccd92ed7d2e9",
   "metadata": {},
   "outputs": [],
   "source": [
    "import dmLab as data"
   ]
  },
  {
   "cell_type": "code",
   "execution_count": 2,
   "id": "f9716855-e651-4b80-b6ad-35b54c7e0145",
   "metadata": {},
   "outputs": [
    {
     "name": "stdout",
     "output_type": "stream",
     "text": [
      "Index(['sep_index', 'pp_index', 'cdaw_sep_id', 'timestamp', 'cdaw_start_time',\n",
      "       'cdaw_max_time', 'cdaw_evn_max', 'cme_id', 'cme_launch_time',\n",
      "       'cme_1st_app_time', 'lasco_cme_width', 'p_cme_width',\n",
      "       'lasco_linear_speed', 'p_cme_speed', 'fl_id', 'fl_start_time',\n",
      "       'fl_peak_time', 'fl_rise_time', 'fl_lon', 'fl_lat', 'fl_goes_class',\n",
      "       'noaa_ar', 'noaa_ar_uncertain', 'harpnum', 'noaa_pf10MeV',\n",
      "       'ppf_gt10MeV', 'ppf_gt30MeV', 'ppf_gt60MeV', 'ppf_gt100MeV',\n",
      "       'fluence_gt10MeV', 'fluence_gt30MeV', 'fluence_gt60MeV',\n",
      "       'fluence_gt100MeV', 'gsep_pf_gt10MeV', 'gsep_max_time',\n",
      "       'gsep_fluence_gt10MeV', 'm_type2_onset_time', 'dh_type2_onset_time',\n",
      "       'start_fr', 'noaa-sep_flag', 'Inst_category', 'Comments', 'Notes',\n",
      "       'Fe_e_p_shock_notes', 'gsep_notes', 'slice_start', 'slice_end', 'Flag'],\n",
      "      dtype='object')\n"
     ]
    }
   ],
   "source": [
    "gsep = data.get_dataset('gsep_list')\n",
    "print(gsep.columns)"
   ]
  },
  {
   "cell_type": "code",
   "execution_count": 4,
   "id": "402cac36-9692-47ef-9c28-9d18e4d5927e",
   "metadata": {},
   "outputs": [
    {
     "name": "stdout",
     "output_type": "stream",
     "text": [
      "Index(['start_time_detection', 'end_time_detection', 'eit_fl_location',\n",
      "       'goes_class', 'noaa_active_region', 'FLAG', 'Remarks'],\n",
      "      dtype='object')\n"
     ]
    }
   ],
   "source": [
    "soho_eit_flare = data.get_dataset('soho_eit_flare')\n",
    "print(soho_eit_flare.columns)"
   ]
  },
  {
   "cell_type": "code",
   "execution_count": 5,
   "id": "27d76007-c632-4360-9e7d-4d434be8c8f1",
   "metadata": {},
   "outputs": [
    {
     "name": "stdout",
     "output_type": "stream",
     "text": [
      "Index(['Instrument', 'Timestamp', 'Central_PA', 'Width', 'Linear_Speed',\n",
      "       '2nd_order_speed_initial', '2nd_order_speed_final',\n",
      "       '2nd_order_speed_20R', 'Accel', 'Mass', 'Kinetic_Energy', 'MPA',\n",
      "       'Remarks', 'Acceleration_uncertainty', 'Kinetic_Energy_uncertainty',\n",
      "       'Mass_uncertainty', 'cactus_id', 'lz_td', 'lz_pad', 'lz_wd', 'lz_vd',\n",
      "       'cactus_pa', 'cactus_da', 'cactus_v', 'lz_tot_de', 'Unnamed: 25'],\n",
      "      dtype='object')\n"
     ]
    }
   ],
   "source": [
    "cdaw_cactus_lz_halo_integrated = data.get_dataset('cdaw_cactus_lz_halo_integrated')\n",
    "print(cdaw_cactus_lz_halo_integrated.columns)"
   ]
  },
  {
   "cell_type": "code",
   "execution_count": 6,
   "id": "e42ae463-3662-4bb9-a955-e1c82131a07a",
   "metadata": {},
   "outputs": [
    {
     "name": "stdout",
     "output_type": "stream",
     "text": [
      "Index(['Instrument', 'Timestamp', 'Central_PA', 'Width', 'Linear_Speed',\n",
      "       '2nd_order_speed_initial', '2nd_order_speed_final',\n",
      "       '2nd_order_speed_20R', 'Accel', 'Mass', 'Kinetic_Energy', 'MPA',\n",
      "       'Remarks', 'Acceleration_uncertainty', 'Kinetic_Energy_uncertainty',\n",
      "       'Mass_uncertainty', 'cactus_id', 'lz_td', 'lz_pad', 'lz_wd', 'lz_vd',\n",
      "       'cactus_pa', 'cactus_da', 'cactus_v', 'lz_tot_de', 'Unnamed: 25'],\n",
      "      dtype='object')\n"
     ]
    }
   ],
   "source": [
    "cdaw_cactus_lz_nonhalo_integrated = data.get_dataset('cdaw_cactus_lz_nonhalo_integrated')\n",
    "print(cdaw_cactus_lz_nonhalo_integrated.columns)"
   ]
  },
  {
   "cell_type": "code",
   "execution_count": 7,
   "id": "eb2357a6-19b2-4c87-b841-ba54386d62a7",
   "metadata": {},
   "outputs": [
    {
     "name": "stdout",
     "output_type": "stream",
     "text": [
      "Index(['Instrument', 'Timestamp', 'Central_PA', 'Width', 'Linear_Speed',\n",
      "       '2nd_order_speed_initial', '2nd_order_speed_final',\n",
      "       '2nd_order_speed_20R', 'Accel', 'Mass', 'Kinetic_Energy', 'MPA',\n",
      "       'Remarks', 'Acceleration_uncertainty', 'Kinetic_Energy_uncertainty',\n",
      "       'Mass_uncertainty', 'cactus_id', 'qkl_td', 'qkl_pad', 'qkl_wd',\n",
      "       'qkl_vd', 'cactus_pa', 'cactus_da', 'cactus_v', 'qkl_tot_de',\n",
      "       'Unnamed: 25'],\n",
      "      dtype='object')\n"
     ]
    }
   ],
   "source": [
    "cdaw_cactus_qkl_halo_integrated = data.get_dataset('cdaw_cactus_qkl_halo_integrated')\n",
    "print(cdaw_cactus_qkl_halo_integrated.columns)"
   ]
  },
  {
   "cell_type": "code",
   "execution_count": 8,
   "id": "a81f9a52-4041-42a9-8d65-110e2aaf2778",
   "metadata": {},
   "outputs": [
    {
     "name": "stdout",
     "output_type": "stream",
     "text": [
      "Index(['Instrument', 'Timestamp', 'Central_PA', 'Width', 'Linear_Speed',\n",
      "       '2nd_order_speed_initial', '2nd_order_speed_final',\n",
      "       '2nd_order_speed_20R', 'Accel', 'Mass', 'Kinetic_Energy', 'MPA',\n",
      "       'Remarks', 'Acceleration_uncertainty', 'Kinetic_Energy_uncertainty',\n",
      "       'Mass_uncertainty', 'cactus_id', 'qkl_td', 'qkl_pad', 'qkl_wd',\n",
      "       'qkl_vd', 'cactus_pa', 'cactus_da', 'cactus_v', 'qkl_tot_de',\n",
      "       'Unnamed: 25'],\n",
      "      dtype='object')\n"
     ]
    }
   ],
   "source": [
    "cdaw_cactus_qkl_nonhalo_integrated = data.get_dataset('cdaw_cactus_qkl_nonhalo_integrated')\n",
    "print(cdaw_cactus_qkl_nonhalo_integrated.columns)"
   ]
  },
  {
   "cell_type": "code",
   "execution_count": 10,
   "id": "05d9b46c-4a54-44ea-9133-c8de5820b9f0",
   "metadata": {},
   "outputs": [
    {
     "name": "stdout",
     "output_type": "stream",
     "text": [
      "Index(['flare_id', 'start_time', 'peak_time', 'end_time', 'goes_class',\n",
      "       'noaa_active_region', 'fl_lon', 'fl_lat', 'fl_loc_src', 'ssw_flare_id',\n",
      "       'hinode_flare_id', 'primary_verified', 'secondary_verified',\n",
      "       'candidate_ars', 'cme_id', 'fl_pa', 'cme_mpa', 'diff_a', 'cme_vel',\n",
      "       'cme_width', 'cme_assoc_conf', 'cdaw_cme_id', 'cdaw_cme_width',\n",
      "       'cdaw_cme_vel', 'cdaw_cme_pa', 'donki_cme_id', 'donki_cme_half_angle',\n",
      "       'donki_cme_vel', 'lowcat_cme_id', 'lowcat_cme_width', 'lowcat_cme_vel',\n",
      "       'lowcat_cme_pa', 'cme_valid_conf'],\n",
      "      dtype='object')\n"
     ]
    }
   ],
   "source": [
    "fl2cme_sdo = data.get_dataset('fl2cme_sdo')\n",
    "print(fl2cme_sdo.columns)"
   ]
  },
  {
   "cell_type": "code",
   "execution_count": 11,
   "id": "37a2102f-0e04-442a-9741-5016b1d18abc",
   "metadata": {},
   "outputs": [
    {
     "name": "stdout",
     "output_type": "stream",
     "text": [
      "Index(['flare_id', 'noaa_active_region', 'event_date', 'start_time',\n",
      "       'peak_time', 'goes_class', 'goes_location', 'Unnamed: 7', 'end_time',\n",
      "       'start_time_detection', 'end_time_detection', 'eit_location',\n",
      "       'fl_location', 'y ', 'x', 'centroids', 'fl_lat', 'fl_lon', 'x_hpc',\n",
      "       'y_hpc', 'hinode_fl_id', 'hinode_verified', 'hinode_x_hpc',\n",
      "       'hinode_y_hpc', 'eit_lon', 'eit_lat', 'eit_x_hpc', 'eit_y_hpc',\n",
      "       'eit_verified', 'cme_id', 'fl_pa', 'cme_mpa', 'diff_a', 'cme_vel',\n",
      "       'cme_width', 'cme_assoc_conf'],\n",
      "      dtype='object')\n"
     ]
    }
   ],
   "source": [
    "fl2cme_soho = data.get_dataset('fl2cme_soho')\n",
    "print(fl2cme_soho.columns)"
   ]
  },
  {
   "cell_type": "code",
   "execution_count": 12,
   "id": "cf7a0103-b740-465d-b195-187529dd0650",
   "metadata": {},
   "outputs": [
    {
     "name": "stdout",
     "output_type": "stream",
     "text": [
      "Index(['flare_id', 'noaa_active_region', 'event_date', 'start_time',\n",
      "       'peak_time', 'goes_class', 'goes_location', 'Unnamed: 7', 'end_time',\n",
      "       'start_time_detection', 'end_time_detection', 'eit_location',\n",
      "       'fl_location', 'y ', 'x', 'centroids', 'fl_lat', 'fl_lon', 'x_hpc',\n",
      "       'y_hpc', 'hinode_fl_id', 'hinode_verified', 'hinode_x_hpc',\n",
      "       'hinode_y_hpc', 'eit_lon', 'eit_lat', 'eit_x_hpc', 'eit_y_hpc',\n",
      "       'eit_verified'],\n",
      "      dtype='object')\n"
     ]
    }
   ],
   "source": [
    "soho_goes_flares = data.get_dataset('soho_goes_flares')\n",
    "print(soho_goes_flares.columns)"
   ]
  },
  {
   "cell_type": "code",
   "execution_count": 13,
   "id": "965b2604-80a3-45d1-b52c-40477139e703",
   "metadata": {},
   "outputs": [
    {
     "name": "stdout",
     "output_type": "stream",
     "text": [
      "Index(['flare_id', 'start_time', 'peak_time', 'end_time', 'goes_class',\n",
      "       'noaa_active_region', 'fl_lon', 'fl_lat', 'fl_loc_src', 'ssw_flare_id',\n",
      "       'hinode_flare_id', 'primary_verified', 'secondary_verified',\n",
      "       'candidate_ars'],\n",
      "      dtype='object')\n"
     ]
    }
   ],
   "source": [
    "sdo_goes_flares = data.get_dataset('sdo_goes_flares')\n",
    "print(sdo_goes_flares.columns)"
   ]
  }
 ],
 "metadata": {
  "kernelspec": {
   "display_name": "Python 3 (ipykernel)",
   "language": "python",
   "name": "python3"
  },
  "language_info": {
   "codemirror_mode": {
    "name": "ipython",
    "version": 3
   },
   "file_extension": ".py",
   "mimetype": "text/x-python",
   "name": "python",
   "nbconvert_exporter": "python",
   "pygments_lexer": "ipython3",
   "version": "3.10.10"
  }
 },
 "nbformat": 4,
 "nbformat_minor": 5
}
