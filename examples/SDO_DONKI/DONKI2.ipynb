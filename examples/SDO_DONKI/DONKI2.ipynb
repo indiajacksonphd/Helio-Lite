{
 "cells": [
  {
   "cell_type": "code",
   "execution_count": 55,
   "id": "e8c77e10-e249-4681-a446-c97eca20909b",
   "metadata": {},
   "outputs": [],
   "source": [
    "import os\n",
    "import requests\n",
    "from datetime import datetime, timedelta\n",
    "import json\n",
    "import ipywidgets as widgets\n",
    "from ipywidgets import HBox, VBox, Label, Box, Layout, Button, Image, HTML\n",
    "from IPython.display import display, HTML"
   ]
  },
  {
   "cell_type": "code",
   "execution_count": 56,
   "id": "265c3786-2fb2-4782-8e9e-9d26fdb069bd",
   "metadata": {},
   "outputs": [],
   "source": [
    "def save_data_to_file(data, filename):\n",
    "    date_str = datetime.now().strftime(\"%Y_%m_%d\")\n",
    "    os.makedirs(date_str, exist_ok=True)\n",
    "\n",
    "    save_path = os.path.join(date_str, filename)\n",
    "    with open(save_path, 'w') as file:\n",
    "        json.dump(data, file, indent=4)\n",
    "    print(f\"Data saved to {filename}\")"
   ]
  },
  {
   "cell_type": "code",
   "execution_count": 57,
   "id": "dd458ca2-db00-4473-9d19-0f1b56f2efc5",
   "metadata": {},
   "outputs": [],
   "source": [
    "def create_save_button(data, start_date, end_date):\n",
    "    filename = f\"donki_data_{start_date}_to_{end_date}.json\"\n",
    "    save_button = widgets.Button(description=\"Save Data\")\n",
    "    \n",
    "    def on_save_button_clicked(b):\n",
    "        save_data_to_file(data, filename)\n",
    "    \n",
    "    save_button.on_click(on_save_button_clicked)\n",
    "    display(save_button)"
   ]
  },
  {
   "cell_type": "code",
   "execution_count": 58,
   "id": "55245414-4b88-43e7-91a4-cfe37d9d4086",
   "metadata": {},
   "outputs": [],
   "source": [
    "def fetch_space_weather_data(start_date, end_date, solar_flare=False, sep=False, cme=False):\n",
    "    base_url = \"https://kauai.ccmc.gsfc.nasa.gov/DONKI/WS/get/\"\n",
    "    data = {}\n",
    "\n",
    "    if solar_flare:\n",
    "        url = f\"{base_url}FLR?startDate={start_date}&endDate={end_date}\"\n",
    "        response = requests.get(url)\n",
    "        data['solar_flare'] = response.json() if response.status_code == 200 else \"Failed to fetch solar flare data\"\n",
    "\n",
    "    if sep:\n",
    "        url = f\"{base_url}SEP?startDate={start_date}&endDate={end_date}\"\n",
    "        response = requests.get(url)\n",
    "        data['sep'] = response.json() if response.status_code == 200 else \"Failed to fetch SEP data\"\n",
    "\n",
    "    if cme:\n",
    "        url = f\"{base_url}CME?startDate={start_date}&endDate={end_date}\"\n",
    "        response = requests.get(url)\n",
    "        data['cme'] = response.json() if response.status_code == 200 else \"Failed to fetch CME data\"\n",
    "\n",
    "    return data"
   ]
  },
  {
   "cell_type": "code",
   "execution_count": 59,
   "id": "f98ff109-5b3c-4de6-90eb-c905f1dbc68c",
   "metadata": {},
   "outputs": [],
   "source": [
    "def format_solar_flare_data(solar_flare_data):\n",
    "    for event in solar_flare_data:\n",
    "        #print(event)  # This will print each solar flare event's details\n",
    "        # You can access specific details like event['flrID'], event['beginTime'], etc.\n",
    "        html_content = f\"<div style='border:1px solid #ddd; padding:10px;'>\"\n",
    "        html_content += f\"<h3>Solar Flare Information</h3>\"\n",
    "        html_content += f\"<p><b>FLR ID:</b> {event['flrID']}</p>\"\n",
    "        html_content += f\"<p><b>Instruments:</b> {event['instruments'][0]['displayName']}</p>\"\n",
    "        html_content += f\"<p><b>Begin Time:</b> {event['beginTime']}</p>\"\n",
    "        html_content += f\"<p><b>Peak Time:</b> {event['peakTime']}</p>\"\n",
    "        html_content += f\"<p><b>End Time:</b> {event.get('endTime', 'N/A')}</p>\"\n",
    "        html_content += f\"<p><b>Class Type:</b> {event['classType']}</p>\"\n",
    "        html_content += f\"<p><b>Source Location:</b> {event['sourceLocation']}</p>\"\n",
    "        linked_events = ', '.join([linked_event['activityID'] for linked_event in event.get('linkedEvents', [])])\n",
    "        html_content += f\"<p><b>Linked Events:</b> {linked_events}</p>\"\n",
    "        html_content += f\"<p><b>Active Region Number:</b> {event['activeRegionNum']}</p>\"\n",
    "        html_content += f\"<p><b>Link:</b> <a href='{event['link']}'>View More</a></p>\"\n",
    "        html_content += \"</div>\"\n",
    "    \n",
    "        # display(HTML(html_content))\n",
    "        return html_content"
   ]
  },
  {
   "cell_type": "code",
   "execution_count": 60,
   "id": "f8d0391d-d414-45d6-bf7c-b315aebfb408",
   "metadata": {},
   "outputs": [],
   "source": [
    "def format_sep_data(solar_energetic_particle_data):\n",
    "    for event in solar_energetic_particle_data:\n",
    "        #print(event)  # This will print each solar flare event's details\n",
    "        # You can access specific details like event['flrID'], event['beginTime'], etc.\n",
    "        html_content = f\"<div style='border:1px solid #ddd; padding:10px;'>\"\n",
    "        html_content += f\"<h3>Solar Energetic Particle Information</h3>\"\n",
    "        html_content += f\"<p><b>SEP ID:</b> {event['sepID']}</p>\"\n",
    "        html_content += f\"<p><b>Event Time:</b> {event['eventTime']}</p>\"\n",
    "        html_content += f\"<p><b>Instruments:</b> {event['instruments'][0]['displayName']}</p>\"\n",
    "        linked_events = ', '.join([linked_event['activityID'] for linked_event in event.get('linkedEvents', [])])\n",
    "        html_content += f\"<p><b>Linked Events:</b> {linked_events}</p>\"\n",
    "        html_content += f\"<p><b>Link:</b> <a href='{event['link']}'>View More</a></p>\"\n",
    "        html_content += \"</div>\"\n",
    "        # display(HTML(html_content))\n",
    "        return html_content"
   ]
  },
  {
   "cell_type": "code",
   "execution_count": 61,
   "id": "300a0868-0a65-4dc4-ba8a-568a0afbe32d",
   "metadata": {},
   "outputs": [],
   "source": [
    "def format_cme_data(coronal_mass_ejection_data):\n",
    "    all_html_content = \"\" \n",
    "    for event in coronal_mass_ejection_data:\n",
    "        html_content = \"<div style='border:1px solid #ddd; padding:10px;'>\"\n",
    "        html_content += \"<h3>Coronal Mass Ejection (CME) Information</h3>\"\n",
    "        html_content += f\"<p><b>Activity ID:</b> {event['activityID']}</p>\"\n",
    "        html_content += f\"<p><b>Catalog:</b> {event['catalog']}</p>\"\n",
    "        html_content += f\"<p><b>Start Time:</b> {event['startTime']}</p>\"\n",
    "        html_content += f\"<p><b>Source Location:</b> {event['sourceLocation']}</p>\"\n",
    "        html_content += f\"<p><b>Active Region Number:</b> {event['activeRegionNum']}</p>\"\n",
    "        html_content += f\"<p><b>Note:</b> {event['note']}</p>\"\n",
    "        # Instruments\n",
    "        instruments = ', '.join([instr['displayName'] for instr in event['instruments']])\n",
    "        html_content += f\"<p><b>Instruments:</b> {instruments}</p>\"\n",
    "        html_content += \"</div>\"\n",
    "        # display(HTML(html_content))\n",
    "        \n",
    "        for analysis in event.get('cmeAnalyses', []):\n",
    "            analysis_html = \"<div style='border:1px solid #ddd; padding:10px;'>\"\n",
    "            analysis_html += \"<h3>CME Analysis</h3>\"\n",
    "            analysis_html += f\"<p><b>Time:</b> {analysis['time21_5']}</p>\"\n",
    "            analysis_html += f\"<p><b>Latitude:</b> {analysis['latitude']}</p>\"\n",
    "            analysis_html += f\"<p><b>Longitude:</b> {analysis['longitude']}</p>\"\n",
    "            analysis_html += f\"<p><b>Half-Angle:</b> {analysis['halfAngle']}</p>\"\n",
    "            analysis_html += f\"<p><b>Speed:</b> {analysis['speed']}</p>\"\n",
    "            analysis_html += f\"<p><b>Type:</b> {analysis['type']}</p>\"\n",
    "            analysis_html += f\"<p><b>Most Accurate?</b> {analysis['isMostAccurate']}</p>\"\n",
    "            analysis_html += f\"<p><b>Note:</b> {analysis['note']}</p>\"\n",
    "            analysis_html += f\"<p><b>Level of Data:</b> {analysis['levelOfData']}</p>\"\n",
    "            analysis_html += f\"<p><b>Link:</b> <a href='{analysis['link']}'>Link</a></p>\"\n",
    "            analysis_html += \"</div>\"\n",
    "            html_content += analysis_html\n",
    "            # display(HTML(html_content))\n",
    "        all_html_content += html_content\n",
    "    return all_html_content"
   ]
  },
  {
   "cell_type": "code",
   "execution_count": 62,
   "id": "3652b7c5-5461-4dee-ada1-e5472ff66937",
   "metadata": {},
   "outputs": [],
   "source": [
    "def fetch_donki_data(start_date, end_date, solar_flare=False, sep=False, cme=False):\n",
    "    data = fetch_space_weather_data(start_date, end_date, solar_flare, sep, cme)\n",
    "    create_save_button(data, start_date, end_date)\n",
    "    widgets_to_display = []\n",
    "\n",
    "    if solar_flare and 'solar_flare' in data:\n",
    "        widgets_to_display.append(widgets.HTML(value=format_solar_flare_data(data['solar_flare'])))\n",
    "\n",
    "    if sep and 'sep' in data:\n",
    "        widgets_to_display.append(widgets.HTML(value=format_sep_data(data['sep'])))\n",
    "\n",
    "    if cme and 'cme' in data:\n",
    "        widgets_to_display.append(widgets.HTML(value=format_cme_data(data['cme'])))\n",
    "\n",
    "    hbox = HBox(widgets_to_display)\n",
    "    display(hbox)"
   ]
  },
  {
   "cell_type": "code",
   "execution_count": 66,
   "id": "62028b2e-df84-4829-9430-85673ddbcb24",
   "metadata": {},
   "outputs": [
    {
     "data": {
      "application/vnd.jupyter.widget-view+json": {
       "model_id": "6e95175acee84f40bc933a771f09168a",
       "version_major": 2,
       "version_minor": 0
      },
      "text/plain": [
       "Button(description='Save Data', style=ButtonStyle())"
      ]
     },
     "metadata": {},
     "output_type": "display_data"
    },
    {
     "data": {
      "application/vnd.jupyter.widget-view+json": {
       "model_id": "88996147413a4575b9a4c88a585628e3",
       "version_major": 2,
       "version_minor": 0
      },
      "text/plain": [
       "HBox(children=(HTML(value=''), HTML(value=''), HTML(value=\"<div style='border:1px solid #ddd; padding:10px;'><…"
      ]
     },
     "metadata": {},
     "output_type": "display_data"
    }
   ],
   "source": [
    "fetch_donki_data('2021-01-01', '2021-01-02', solar_flare=True, sep=True, cme=True)"
   ]
  },
  {
   "cell_type": "code",
   "execution_count": null,
   "id": "ba996003-b3a0-41f9-8fea-56a3325212bc",
   "metadata": {},
   "outputs": [],
   "source": []
  }
 ],
 "metadata": {
  "kernelspec": {
   "display_name": "Python 3 (ipykernel)",
   "language": "python",
   "name": "python3"
  },
  "language_info": {
   "codemirror_mode": {
    "name": "ipython",
    "version": 3
   },
   "file_extension": ".py",
   "mimetype": "text/x-python",
   "name": "python",
   "nbconvert_exporter": "python",
   "pygments_lexer": "ipython3",
   "version": "3.10.10"
  }
 },
 "nbformat": 4,
 "nbformat_minor": 5
}
