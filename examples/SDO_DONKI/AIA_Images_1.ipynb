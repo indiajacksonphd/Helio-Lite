{
 "cells": [
  {
   "cell_type": "code",
   "execution_count": 31,
   "id": "157747b8-bf35-4c4f-ab72-df33519cfe51",
   "metadata": {},
   "outputs": [],
   "source": [
    "import os\n",
    "import requests\n",
    "import base64\n",
    "from bs4 import BeautifulSoup\n",
    "from PIL import Image as pilImage\n",
    "from io import BytesIO\n",
    "import ipywidgets as widgets\n",
    "from ipywidgets import HBox, VBox, Label, Box, Layout, Button, Image, HTML\n",
    "from IPython.display import display, clear_output\n",
    "import matplotlib.pyplot as plt\n",
    "import numpy as np\n",
    "from datetime import datetime, timedelta"
   ]
  },
  {
   "cell_type": "code",
   "execution_count": 35,
   "id": "f515e030-5f61-42be-8317-81859e571e85",
   "metadata": {},
   "outputs": [],
   "source": [
    "def save_images(b):\n",
    "    date_str = datetime.now().strftime(\"%Y_%m_%d\")\n",
    "    os.makedirs(date_str, exist_ok=True)\n",
    "    \n",
    "    for selected_href in selected_images:\n",
    "        selected_url = base_url + selected_href\n",
    "        response = requests.get(selected_url)\n",
    "        if response.status_code == 200:\n",
    "            image = pilImage.open(BytesIO(response.content))\n",
    "            image_filename = os.path.basename(selected_href).replace('.jp2', '.png')\n",
    "            save_path = os.path.join(date_str, image_filename)\n",
    "            image.save(save_path)\n",
    "            # image.save(image_filename)\n",
    "            print(f'Saved {image_filename}')"
   ]
  },
  {
   "cell_type": "code",
   "execution_count": 39,
   "id": "f1dc96ca-0252-4027-b52c-69a4ec59e285",
   "metadata": {},
   "outputs": [],
   "source": [
    "selected_images = [] \n",
    "out = widgets.Output()\n",
    "\n",
    "def on_selection_change(change):\n",
    "    if change['type'] == 'change' and change['name'] == 'value':\n",
    "        selected_images[:] = change['new']\n",
    "        with out:\n",
    "            clear_output(wait=True)  # Clear the previous output\n",
    "            # Start with an empty list for your images\n",
    "            html_images = []\n",
    "            \n",
    "            # Loop through your images and create an HTML string for each\n",
    "            for selected_href in selected_images:\n",
    "                selected_url = base_url + selected_href\n",
    "                response = requests.get(selected_url)\n",
    "                \n",
    "                if response.status_code == 200:\n",
    "                        with BytesIO(response.content) as img_io:\n",
    "                            pil_image = pilImage.open(img_io)\n",
    "                            pil_image.thumbnail((256, 256))\n",
    "                            with BytesIO() as buffer:\n",
    "                                pil_image.save(buffer, format=\"PNG\")\n",
    "                                buffer.seek(0)\n",
    "                                image_png_bytes = buffer.getvalue()\n",
    "                                # Convert to base64 for HTML embedding\n",
    "                                image_base64 = base64.b64encode(image_png_bytes).decode('utf-8')\n",
    "                                # image_data = base64.b64encode(response.content).decode('utf-8')\n",
    "                                filename = os.path.basename(selected_href)\n",
    "                                sdo_index = filename.find('__SDO')\n",
    "                                trimmed_filename = filename[:sdo_index] if sdo_index != -1 else filename\n",
    "                        \n",
    "                                # Create the image HTML tag with a base64 encoded source\n",
    "                                img_tag = f'<img src=\"data:image/png;base64,{image_base64}\" style=\"width: 256px; height: 256px; margin: 2px;\"/>'\n",
    "                                # Optionally, add a caption\n",
    "                                caption = f'<div style=\"text-align: center; width: 256px;\">{trimmed_filename}</div>'\n",
    "                                # Combine the image and the caption in a div\n",
    "                                img_div = f'<div style=\"display: inline-block; width: 260px;\">{caption}{img_tag}</div>'\n",
    "                                \n",
    "                                # Append the div to the list of images\n",
    "                                html_images.append(img_div)\n",
    "                        \n",
    "            # Combine all the image divs and put them inside a scrollable container\n",
    "            scrollable_container = f'''\n",
    "            <div style=\"overflow-x: auto; white-space: nowrap; width: 100%; border: 1px solid #ccc;\">\n",
    "                {''.join(html_images)}\n",
    "            </div>\n",
    "            '''\n",
    "                        \n",
    "            # Display the HTML widget with the scrollable container\n",
    "            display(HTML(scrollable_container))"
   ]
  },
  {
   "cell_type": "code",
   "execution_count": 40,
   "id": "f2806ad9-1422-4191-bec5-16e3aa18e9e4",
   "metadata": {},
   "outputs": [],
   "source": [
    "# Fetch and parse the HTML content to create the selection menu\n",
    "def fetch_aia_images(year, month, day, wavelength):\n",
    "    global base_url, selection_menu, save_button\n",
    "    base_url = f'http://jsoc.stanford.edu/data/aia/images/{year:04d}/{month:02d}/{day:02d}/{wavelength}/'\n",
    "    response = requests.get(base_url)\n",
    "    soup = BeautifulSoup(response.content, 'html.parser')\n",
    "\n",
    "    options = [a['href'] for a in soup.find_all('a', href=True) if a['href'].endswith('.jp2')]\n",
    "    selection_menu = widgets.SelectMultiple(options=[(os.path.basename(href), href) for href in options],\n",
    "                                            disabled=False,\n",
    "                                            rows=10)\n",
    "\n",
    "    # Create the button widget\n",
    "    save_button = widgets.Button(description=\"Save Images\", layout = Layout( margin='20px 0 0 0'))\n",
    "\n",
    "    # Display widgets\n",
    "    label = Label('Select Your Images', layout = Layout(display='flex', justify_content='center', align_items='center'))\n",
    "    scene = VBox([selection_menu, save_button], layout = Layout(display='flex', justify_content='center', align_items='center', margin='0 0 20px 0'))\n",
    "    # display(selection_menu, save_button, out)\n",
    "    display(label, scene, out)\n",
    "    \n",
    "    # Set event handlers\n",
    "    selection_menu.observe(on_selection_change, names='value')\n",
    "    save_button.on_click(save_images)"
   ]
  },
  {
   "cell_type": "code",
   "execution_count": 41,
   "id": "2de4cc2f-c1ee-483b-ad3c-f47c7b2e0da4",
   "metadata": {},
   "outputs": [
    {
     "data": {
      "application/vnd.jupyter.widget-view+json": {
       "model_id": "b99a87e8ede34092ae84d5da81fa40d6",
       "version_major": 2,
       "version_minor": 0
      },
      "text/plain": [
       "Label(value='Select Your Images', layout=Layout(align_items='center', display='flex', justify_content='center'…"
      ]
     },
     "metadata": {},
     "output_type": "display_data"
    },
    {
     "data": {
      "application/vnd.jupyter.widget-view+json": {
       "model_id": "77ee96eec3b24e71875d1ed5331452a9",
       "version_major": 2,
       "version_minor": 0
      },
      "text/plain": [
       "VBox(children=(SelectMultiple(options=(('2024_01_14__00_00_14_129__SDO_AIA_AIA_1600.jp2', '2024_01_14__00_00_1…"
      ]
     },
     "metadata": {},
     "output_type": "display_data"
    },
    {
     "data": {
      "application/vnd.jupyter.widget-view+json": {
       "model_id": "ad362e2eb7fe4edaaf1904d48b8c58b9",
       "version_major": 2,
       "version_minor": 0
      },
      "text/plain": [
       "Output()"
      ]
     },
     "metadata": {},
     "output_type": "display_data"
    }
   ],
   "source": [
    "# Example usage\n",
    "fetch_aia_images(2024, 1, 14, 1600)"
   ]
  },
  {
   "cell_type": "code",
   "execution_count": null,
   "id": "6545a8dc-bbd4-42db-a356-3190bd4a8581",
   "metadata": {},
   "outputs": [],
   "source": []
  }
 ],
 "metadata": {
  "kernelspec": {
   "display_name": "Python 3 (ipykernel)",
   "language": "python",
   "name": "python3"
  },
  "language_info": {
   "codemirror_mode": {
    "name": "ipython",
    "version": 3
   },
   "file_extension": ".py",
   "mimetype": "text/x-python",
   "name": "python",
   "nbconvert_exporter": "python",
   "pygments_lexer": "ipython3",
   "version": "3.10.10"
  }
 },
 "nbformat": 4,
 "nbformat_minor": 5
}
