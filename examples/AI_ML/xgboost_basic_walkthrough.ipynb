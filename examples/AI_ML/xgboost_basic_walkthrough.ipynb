{
  "cells": [
    {
      "cell_type": "markdown",
      "metadata": {},
      "source": [
        "\n# Getting started with XGBoost\n\nThis is a simple example of using the native XGBoost interface, there are other\ninterfaces in the Python package like scikit-learn interface and Dask interface.\n\n\nSee :doc:`/python/python_intro` and :doc:`/tutorials/index` for other references.\n"
      ]
    },
    {
      "cell_type": "code",
      "execution_count": null,
      "metadata": {
        "collapsed": false
      },
      "outputs": [],
      "source": [
        "import os\nimport pickle\n\nimport numpy as np\nfrom sklearn.datasets import load_svmlight_file\n\nimport xgboost as xgb\n\n# Make sure the demo knows where to load the data.\nCURRENT_DIR = os.path.dirname(os.path.abspath(__file__))\nXGBOOST_ROOT_DIR = os.path.dirname(os.path.dirname(CURRENT_DIR))\nDEMO_DIR = os.path.join(XGBOOST_ROOT_DIR, \"demo\")\n\n# X is a scipy csr matrix, XGBoost supports many other input types,\nX, y = load_svmlight_file(os.path.join(DEMO_DIR, \"data\", \"agaricus.txt.train\"))\ndtrain = xgb.DMatrix(X, y)\n# validation set\nX_test, y_test = load_svmlight_file(os.path.join(DEMO_DIR, \"data\", \"agaricus.txt.test\"))\ndtest = xgb.DMatrix(X_test, y_test)\n\n# specify parameters via map, definition are same as c++ version\nparam = {\"max_depth\": 2, \"eta\": 1, \"objective\": \"binary:logistic\"}\n\n# specify validations set to watch performance\nwatchlist = [(dtest, \"eval\"), (dtrain, \"train\")]\n# number of boosting rounds\nnum_round = 2\nbst = xgb.train(param, dtrain, num_boost_round=num_round, evals=watchlist)\n\n# run prediction\npreds = bst.predict(dtest)\nlabels = dtest.get_label()\nprint(\n    \"error=%f\"\n    % (\n        sum(1 for i in range(len(preds)) if int(preds[i] > 0.5) != labels[i])\n        / float(len(preds))\n    )\n)\nbst.save_model(\"model-0.json\")\n# dump model\nbst.dump_model(\"dump.raw.txt\")\n# dump model with feature map\nbst.dump_model(\"dump.nice.txt\", os.path.join(DEMO_DIR, \"data/featmap.txt\"))\n\n# save dmatrix into binary buffer\ndtest.save_binary(\"dtest.dmatrix\")\n# save model\nbst.save_model(\"model-1.json\")\n# load model and data in\nbst2 = xgb.Booster(model_file=\"model-1.json\")\ndtest2 = xgb.DMatrix(\"dtest.dmatrix\")\npreds2 = bst2.predict(dtest2)\n# assert they are the same\nassert np.sum(np.abs(preds2 - preds)) == 0\n\n# alternatively, you can pickle the booster\npks = pickle.dumps(bst2)\n# load model and data in\nbst3 = pickle.loads(pks)\npreds3 = bst3.predict(dtest2)\n# assert they are the same\nassert np.sum(np.abs(preds3 - preds)) == 0"
      ]
    }
  ],
  "metadata": {
    "kernelspec": {
      "display_name": "Python 3",
      "language": "python",
      "name": "python3"
    },
    "language_info": {
      "codemirror_mode": {
        "name": "ipython",
        "version": 3
      },
      "file_extension": ".py",
      "mimetype": "text/x-python",
      "name": "python",
      "nbconvert_exporter": "python",
      "pygments_lexer": "ipython3",
      "version": "3.8.18"
    }
  },
  "nbformat": 4,
  "nbformat_minor": 0
}